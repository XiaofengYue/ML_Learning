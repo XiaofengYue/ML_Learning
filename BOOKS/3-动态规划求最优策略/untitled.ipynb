{
 "cells": [
  {
   "cell_type": "code",
   "execution_count": 15,
   "source": [
    "S = [i for i in range(16)] # 状态空间\n",
    "A = [\"n\", \"e\", \"s\", \"w\"] # 行为空间\n",
    "# P,R,将由dynamics动态生成\n",
    "\n",
    "ds_actions = {\"n\": -4, \"e\": 1, \"s\": 4, \"w\": -1} # 行为对状态的改变\n",
    "\n",
    "def dynamics(s, a): # 环境动力学\n",
    "    '''模拟小型方格世界的环境动力学特征\n",
    "    Args:\n",
    "        s 当前状态 int 0 - 15\n",
    "        a 行为 str in ['n','e','s','w'] 分别表示北、东、南、西\n",
    "    Returns: tuple (s_prime, reward, is_end)\n",
    "        s_prime 后续状态\n",
    "        reward 奖励值\n",
    "        is_end 是否进入终止状态\n",
    "    '''\n",
    "    s_prime = s\n",
    "    if (s%4 == 0 and a == \"w\") or (s<4 and a == \"n\") \\\n",
    "        or ((s+1)%4 == 0 and a == \"e\") or (s > 11 and a == \"s\")\\\n",
    "        or s in [0, 15]:\n",
    "        pass\n",
    "    else:\n",
    "        ds = ds_actions[a]\n",
    "        s_prime = s + ds\n",
    "    reward = 0 if s in [0, 15] else -1\n",
    "    is_end = True if s in [0, 15] else False\n",
    "    return s_prime, reward, is_end\n",
    "\n",
    "def P(s, a, s1): # 状态转移概率函数\n",
    "    s_prime, _, _ = dynamics(s, a)\n",
    "    return s1 == s_prime\n",
    "\n",
    "def R(s, a): # 奖励函数\n",
    "    _, r, _ = dynamics(s, a)\n",
    "    return r\n",
    "\n",
    "gamma = 1.00\n",
    "MDP = S, A, R, P, gamma"
   ],
   "outputs": [],
   "metadata": {}
  },
  {
   "cell_type": "code",
   "execution_count": 16,
   "source": [
    "def uniform_random_pi(MDP = None, V = None, s = None, a = None):\n",
    "    _, A, _, _, _ = MDP\n",
    "    n = len(A)\n",
    "    return 0 if n == 0 else 1.0/n\n",
    "\n",
    "def greedy_pi(MDP, V, s, a):\n",
    "    S, A, P, R, gamma = MDP\n",
    "    max_v, a_max_v = -float('inf'), []\n",
    "    for a_opt in A:# 统计后续状态的最大价值以及到达到达该状态的行为（可能不止一个）\n",
    "        s_prime, reward, _ = dynamics(s, a_opt)\n",
    "        v_s_prime = get_value(V, s_prime)\n",
    "        if v_s_prime > max_v:\n",
    "            max_v = v_s_prime\n",
    "            a_max_v = [a_opt]\n",
    "        elif(v_s_prime == max_v):\n",
    "            a_max_v.append(a_opt)\n",
    "    n = len(a_max_v)\n",
    "    if n == 0: return 0.0\n",
    "    return 1.0/n if a in a_max_v else 0.0\n",
    "\n",
    "def get_pi(Pi, s, a, MDP = None, V = None):\n",
    "    return Pi(MDP, V, s, a)"
   ],
   "outputs": [],
   "metadata": {}
  },
  {
   "cell_type": "code",
   "execution_count": 17,
   "source": [
    "# 辅助函数\n",
    "def get_prob(P, s, a, s1): # 获取状态转移概率\n",
    "    return P(s, a, s1)\n",
    "\n",
    "def get_reward(R, s, a): # 获取奖励值\n",
    "    return R(s, a)\n",
    "\n",
    "def set_value(V, s, v): # 设置价值字典\n",
    "    V[s] = v\n",
    "    \n",
    "def get_value(V, s): # 获取状态价值\n",
    "    return V[s]\n",
    "\n",
    "def display_V(V): # 显示状态价值\n",
    "    for i in range(16):\n",
    "        print('{0:>6.2f}'.format(V[i]),end = \" \")\n",
    "        if (i+1) % 4 == 0:\n",
    "            print(\"\")\n",
    "    print()"
   ],
   "outputs": [],
   "metadata": {}
  },
  {
   "cell_type": "code",
   "execution_count": 18,
   "source": [
    "def compute_q(MDP, V, s, a):\n",
    "    '''根据给定的MDP，价值函数V，计算状态行为对s,a的价值qsa\n",
    "    '''\n",
    "    S, A, R, P, gamma = MDP\n",
    "    q_sa = 0\n",
    "    for s_prime in S:\n",
    "        q_sa += get_prob(P, s, a, s_prime) * get_value(V, s_prime)\n",
    "    q_sa = get_reward(R, s,a) + gamma * q_sa\n",
    "    return q_sa\n",
    "\n",
    "def compute_v(MDP, V, Pi, s):\n",
    "    '''给定MDP下依据某一策略Pi和当前状态价值函数V计算某状态s的价值\n",
    "    '''\n",
    "    S, A, R, P, gamma = MDP\n",
    "    v_s = 0\n",
    "    for a in A:\n",
    "        v_s += get_pi(Pi, s, a, MDP, V) * compute_q(MDP, V, s, a)\n",
    "    return v_s        \n",
    "\n",
    "def update_V(MDP, V, Pi):\n",
    "    '''给定一个MDP和一个策略，更新该策略下的价值函数V\n",
    "    '''\n",
    "    S, _, _, _, _ = MDP\n",
    "    V_prime = V.copy()\n",
    "    for s in S:\n",
    "        set_value(V_prime, s, compute_v(MDP, V_prime, Pi, s))\n",
    "    return V_prime\n",
    "\n",
    "\n",
    "def policy_evaluate(MDP, V, Pi, n):\n",
    "    '''使用n次迭代计算来评估一个MDP在给定策略Pi下的状态价值，初始时价值为V\n",
    "    '''\n",
    "    for i in range(n):\n",
    "        #print(\"====第{}次迭代====\".format(i+1))\n",
    "        V = update_V(MDP, V, Pi)\n",
    "        #display_V(V)\n",
    "    return V"
   ],
   "outputs": [],
   "metadata": {}
  },
  {
   "cell_type": "code",
   "execution_count": 19,
   "source": [
    "V = [0 for _ in range(16)]"
   ],
   "outputs": [],
   "metadata": {}
  },
  {
   "cell_type": "code",
   "execution_count": 20,
   "source": [
    "V_pi = policy_evaluate(MDP, V, uniform_random_pi, 100)"
   ],
   "outputs": [],
   "metadata": {}
  },
  {
   "cell_type": "code",
   "execution_count": 21,
   "source": [
    "display_V(V_pi)"
   ],
   "outputs": [
    {
     "output_type": "stream",
     "name": "stdout",
     "text": [
      "  0.00 -14.00 -20.00 -22.00 \n",
      "-14.00 -18.00 -20.00 -20.00 \n",
      "-20.00 -20.00 -18.00 -14.00 \n",
      "-22.00 -20.00 -14.00   0.00 \n",
      "\n"
     ]
    }
   ],
   "metadata": {}
  },
  {
   "cell_type": "code",
   "execution_count": null,
   "source": [],
   "outputs": [],
   "metadata": {}
  }
 ],
 "metadata": {
  "orig_nbformat": 4,
  "language_info": {
   "name": "python",
   "version": "3.8.10",
   "mimetype": "text/x-python",
   "codemirror_mode": {
    "name": "ipython",
    "version": 3
   },
   "pygments_lexer": "ipython3",
   "nbconvert_exporter": "python",
   "file_extension": ".py"
  },
  "kernelspec": {
   "name": "python3",
   "display_name": "Python 3.8.10 64-bit ('ML': conda)"
  },
  "interpreter": {
   "hash": "0a464861ae92d8053d3f8d92295f3c5faa5c009edc2acd3d573e83a189479915"
  }
 },
 "nbformat": 4,
 "nbformat_minor": 2
}